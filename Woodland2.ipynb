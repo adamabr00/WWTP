{
 "cells": [
  {
   "cell_type": "code",
   "execution_count": 12,
   "metadata": {},
   "outputs": [
    {
     "data": {
      "text/markdown": [
       "## Aeration Capacity Interactive Visualization"
      ],
      "text/plain": [
       "<IPython.core.display.Markdown object>"
      ]
     },
     "metadata": {},
     "output_type": "display_data"
    },
    {
     "data": {
      "text/markdown": [
       "\n",
       "This interactive visualization allows you to dynamically adjust the input parameters for calculating the aeration capacity required for the Woodland WWTP.\n",
       "\n",
       "Adjust the sliders to change the inputs and observe how the aeration capacity results vary with different input values. The plot and calculated values will update in real-time based on the slider positions.\n"
      ],
      "text/plain": [
       "<IPython.core.display.Markdown object>"
      ]
     },
     "metadata": {},
     "output_type": "display_data"
    },
    {
     "data": {
      "application/vnd.jupyter.widget-view+json": {
       "model_id": "e555be4fce7d468084b1e0499e9b5a03",
       "version_major": 2,
       "version_minor": 0
      },
      "text/plain": [
       "interactive(children=(FloatSlider(value=3000.0, description='Influent/day (m3)', layout=Layout(width='600px'),…"
      ]
     },
     "metadata": {},
     "output_type": "display_data"
    },
    {
     "data": {
      "text/plain": [
       "<function __main__.plot_results(influent_per_day_liters=3000000, BOD_mg_per_L=150, ammonium_mg_per_L=40, BOD_factor=1.1, ammonium_factor=4.6, environmental_factor=0.4, OTR=0.225, oxygen_percentage_in_air=0.21, density_of_air=1.3)>"
      ]
     },
     "execution_count": 12,
     "metadata": {},
     "output_type": "execute_result"
    }
   ],
   "source": [
    "import matplotlib.pyplot as plt\n",
    "from ipywidgets import interact, FloatSlider, Layout\n",
    "import numpy as np\n",
    "from IPython.display import display, Markdown\n",
    "\n",
    "# Define the title and description as Markdown\n",
    "title = \"## Aeration Capacity Interactive Visualization\"\n",
    "description = \"\"\"\n",
    "This interactive visualization allows you to dynamically adjust the input parameters for calculating the aeration capacity required for the Woodland WWTP.\n",
    "\n",
    "Adjust the sliders to change the inputs and observe how the aeration capacity results vary with different input values. The plot and calculated values will update in real-time based on the slider positions.\n",
    "\"\"\"\n",
    "\n",
    "# Display the title and description\n",
    "display(Markdown(title))\n",
    "display(Markdown(description))\n",
    "\n",
    "# Define slider layout\n",
    "slider_layout = Layout(width='600px')\n",
    "description_layout = Layout(width='150px')  # Adjust the width of the description to ensure it fits\n",
    "\n",
    "# Define a function to create a slider with the specified layout\n",
    "def create_slider(description, min, max, step, value):\n",
    "    return FloatSlider(\n",
    "        description=description,\n",
    "        min=min,\n",
    "        max=max,\n",
    "        step=step,\n",
    "        value=value,\n",
    "        style={'description_width': 'initial'},  # Use 'initial' or a specific width\n",
    "        layout=slider_layout,\n",
    "        description_layout=description_layout\n",
    "    )\n",
    "\n",
    "\n",
    "def calculate_aeration_capacity(influent_per_day_liters, BOD_mg_per_L, ammonium_mg_per_L,\n",
    "                                BOD_factor, ammonium_factor, environmental_factor,\n",
    "                                OTR, oxygen_percentage_in_air, density_of_air):\n",
    "    kg_BOD_per_day = BOD_mg_per_L * influent_per_day_liters / 1000\n",
    "    kg_ammonium_per_day = ammonium_mg_per_L * influent_per_day_liters / 1000\n",
    "\n",
    "    AOR = (kg_BOD_per_day * BOD_factor) + (kg_ammonium_per_day * ammonium_factor)\n",
    "    SOR = AOR / environmental_factor\n",
    "    required_oxygen = SOR / OTR\n",
    "    total_air_per_day = required_oxygen / oxygen_percentage_in_air\n",
    "    air_per_minute = total_air_per_day / 1440  # minutes per day\n",
    "    flow_air_m3_per_minute = air_per_minute / density_of_air\n",
    "    \n",
    "    return (kg_BOD_per_day, kg_ammonium_per_day, AOR, SOR, required_oxygen, total_air_per_day, air_per_minute, flow_air_m3_per_minute)\n",
    "\n",
    "def plot_results(influent_per_day_liters=3000000, BOD_mg_per_L=150, ammonium_mg_per_L=40,\n",
    "                 BOD_factor=1.1, ammonium_factor=4.6, environmental_factor=0.4,\n",
    "                 OTR=0.225, oxygen_percentage_in_air=0.21, density_of_air=1.3):\n",
    "    \n",
    "    results = calculate_aeration_capacity(influent_per_day_liters, BOD_mg_per_L, ammonium_mg_per_L,\n",
    "                                          BOD_factor, ammonium_factor, environmental_factor,\n",
    "                                          OTR, oxygen_percentage_in_air, density_of_air)\n",
    "    labels = ['Kg BOD/Day', 'Kg Ammonia/Day', 'AOR Actual Oxygen Requirement', 'SOR Standard Oxygen Requirement', 'Required Oxygen (kg)', 'Total Air per Day (kg)', 'Air per Minute (kg)', 'Flow Air m3/min']\n",
    "    \n",
    "    plt.figure(figsize=(8, 4))\n",
    "    plt.bar(labels, results, color='skyblue')\n",
    "    plt.ylabel('Values')\n",
    "    plt.title('Aeration Capacity Results')\n",
    "    plt.xticks(rotation=45, ha=\"right\")\n",
    "    plt.tight_layout()\n",
    "    plt.show()\n",
    "    \n",
    "    for label, result in zip(labels, results):\n",
    "        print(f\"{label}: {result:.2f}\")\n",
    "\n",
    "# Use the create_slider function to create each slider\n",
    "interact(plot_results,\n",
    "         influent_per_day_liters=create_slider('Influent/day (m3)', 1000, 5000, 100, 3000),\n",
    "         BOD_mg_per_L=create_slider('BOD (mg/L)', 100, 350, 10, 150),\n",
    "         ammonium_mg_per_L=create_slider('Ammonium (mg/L)', 10, 100, 5, 40),\n",
    "         BOD_factor=create_slider('BOD Factor', 0.5, 2.0, 0.1, 1.1),\n",
    "         ammonium_factor=create_slider('Ammonium Factor', 2.0, 6.0, 0.1, 4.6),\n",
    "         environmental_factor=create_slider('Environmental Factor', 0.1, 1.0, 0.1, 0.4),\n",
    "         OTR=create_slider('OTR', 0.1, 0.5, 0.05, 0.225),\n",
    "         oxygen_percentage_in_air=create_slider('Oxygen % in Air', 0.18, 0.23, 0.01, 0.21),\n",
    "         density_of_air=create_slider('Density of Air (kg/m3)', 1.0, 1.5, 0.1, 1.3))\n"
   ]
  }
 ],
 "metadata": {
  "kernelspec": {
   "display_name": "myenv",
   "language": "python",
   "name": "python3"
  },
  "language_info": {
   "codemirror_mode": {
    "name": "ipython",
    "version": 3
   },
   "file_extension": ".py",
   "mimetype": "text/x-python",
   "name": "python",
   "nbconvert_exporter": "python",
   "pygments_lexer": "ipython3",
   "version": "3.11.4"
  }
 },
 "nbformat": 4,
 "nbformat_minor": 2
}
